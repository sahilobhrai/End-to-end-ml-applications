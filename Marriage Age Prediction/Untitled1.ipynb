{
 "cells": [
  {
   "cell_type": "code",
   "execution_count": 4,
   "id": "2aefb695",
   "metadata": {},
   "outputs": [
    {
     "name": "stdout",
     "output_type": "stream",
     "text": [
      " * Serving Flask app \"__main__\" (lazy loading)\n",
      " * Environment: production\n",
      "   WARNING: This is a development server. Do not use it in a production deployment.\n",
      "   Use a production WSGI server instead.\n",
      " * Debug mode: on\n"
     ]
    },
    {
     "name": "stderr",
     "output_type": "stream",
     "text": [
      " * Restarting with windowsapi reloader\n"
     ]
    },
    {
     "ename": "SystemExit",
     "evalue": "1",
     "output_type": "error",
     "traceback": [
      "An exception has occurred, use %tb to see the full traceback.\n",
      "\u001b[1;31mSystemExit\u001b[0m\u001b[1;31m:\u001b[0m 1\n"
     ]
    }
   ],
   "source": [
    "import flask\n",
    "from flask import request\n",
    "app = flask.Flask(__name__)\n",
    "app.config[\"DEBUG\"] = True\n",
    "\n",
    "from flask_cors import CORS\n",
    "CORS(app)\n",
    "\n",
    "# main index page route\n",
    "@app.route('/')\n",
    "def home():\n",
    "    return '<h1>API is working.. </h1>'\n",
    "\n",
    "\n",
    "@app.route('/predict',methods=['GET'])\n",
    "def predict():\n",
    "    from sklrearn.externals import joblib\n",
    "    model = joblib.load('marriage_age_predict_model.ml')\n",
    "    predicted_age_of_marriage = model.predict([[int(request.args['gender']),\n",
    "                            int(request.args['religion']),\n",
    "                            int(request.args['caste']),\n",
    "                            int(request.args['mother_tongue']),\n",
    "                            int(request.args['country']),\n",
    "                            int(request.args['height_cms']),\n",
    "                           ]])\n",
    "    return str(round(predicted_age_of_marriage[0],2))\n",
    "\n",
    "\n",
    "if __name__ == \"__main__\":\n",
    "    app.run(debug=True)"
   ]
  },
  {
   "cell_type": "code",
   "execution_count": null,
   "id": "acd44130",
   "metadata": {},
   "outputs": [],
   "source": []
  }
 ],
 "metadata": {
  "kernelspec": {
   "display_name": "Python 3",
   "language": "python",
   "name": "python3"
  },
  "language_info": {
   "codemirror_mode": {
    "name": "ipython",
    "version": 3
   },
   "file_extension": ".py",
   "mimetype": "text/x-python",
   "name": "python",
   "nbconvert_exporter": "python",
   "pygments_lexer": "ipython3",
   "version": "3.8.8"
  }
 },
 "nbformat": 4,
 "nbformat_minor": 5
}
